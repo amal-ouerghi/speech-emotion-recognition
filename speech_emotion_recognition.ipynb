{
 "cells": [
  {
   "cell_type": "code",
   "execution_count": 1,
   "metadata": {},
   "outputs": [],
   "source": [
    "import numpy\n",
    "from scipy.io.wavfile import read\n",
    "import os\n",
    "from shutil import copyfile\n",
    "from sklearn.model_selection import train_test_split\n",
    "from sklearn.svm import SVC\n",
    "\n"
   ]
  },
  {
   "cell_type": "code",
   "execution_count": 2,
   "metadata": {},
   "outputs": [],
   "source": [
    "for fileName in os.listdir(os.getcwd()+\"/all_data/\"):\n",
    "    os.remove(os.getcwd()+\"/all_data\"+\"/\"+fileName)\n",
    "for filename in os.listdir(os.getcwd()+\"/data/DC/\"):\n",
    "    copyfile(os.getcwd()+\"/data/DC/\"+filename,os.getcwd()+\"/all_data/\"+filename.split('.')[0]+\"_DC.wav\")\n",
    "\n",
    "for filename in os.listdir(os.getcwd()+\"/data/JE/\"):\n",
    "    copyfile(os.getcwd()+\"/data/JE/\"+filename,os.getcwd()+\"/all_data/\"+filename.split('.')[0]+\"_JE.wav\")\n",
    "\n",
    "for filename in os.listdir(os.getcwd()+\"/data/JK/\"):\n",
    "    copyfile(os.getcwd()+\"/data/JK/\"+filename,os.getcwd()+\"/all_data/\"+filename.split('.')[0]+\"_JK.wav\")\n",
    "\n",
    "for filename in os.listdir(os.getcwd()+\"/data/KL/\"):\n",
    "    copyfile(os.getcwd()+\"/data/KL/\"+filename,os.getcwd()+\"/all_data/\"+filename.split('.')[0]+\"_KL.wav\")\n"
   ]
  },
  {
   "cell_type": "code",
   "execution_count": 3,
   "metadata": {},
   "outputs": [],
   "source": [
    "data_0=[]\n",
    "data_labels=[]\n",
    "# labels={'a':numpy.array([1,0,0,0,0,0,0]),'d':numpy.array([0,1,0,0,0,0,0]),'f':numpy.array([0,0,1,0,0,0,0]), 'h':numpy.array([0,0,0,1,0,0,0]),'n':numpy.array([0,0,0,0,1,0,0]),'sa':numpy.array([0,0,0,0,0,1,0]),'su':numpy.array([0,0,0,0,0,0,1])}\n",
    "labels={'a':0,'d':1,'f':2, 'h':3,'n':4,'sa':5,'su':6}\n",
    "for fileName in os.listdir(os.getcwd()+\"/all_data/\"):\n",
    "    a=read(os.getcwd()+\"/all_data\"+\"/\"+fileName)\n",
    "    data_0.append(numpy.array(a[1],dtype=float))\n",
    "    if fileName[0]=='a':\n",
    "        data_labels.append(labels['a'])\n",
    "    elif fileName[0]=='d':\n",
    "        data_labels.append(labels['d'])\n",
    "    elif fileName[0]=='f':\n",
    "        data_labels.append(labels['f'])\n",
    "    elif fileName[0]=='h':\n",
    "        data_labels.append(labels['h'])\n",
    "    elif fileName[0]=='n':\n",
    "        data_labels.append(labels['n'])\n",
    "    elif fileName[1]=='a':\n",
    "        data_labels.append(labels['sa'])\n",
    "    elif fileName[1]=='u':\n",
    "        data_labels.append(labels['su'])\n",
    "        "
   ]
  },
  {
   "cell_type": "code",
   "execution_count": 4,
   "metadata": {},
   "outputs": [],
   "source": [
    "data = numpy.zeros([len(data_0),len(max(data_0,key = lambda x: len(x)))])\n",
    "for i,j in enumerate(data_0):\n",
    "    data[i][0:len(j)] = j\n",
    "data=data.tolist()"
   ]
  },
  {
   "cell_type": "code",
   "execution_count": null,
   "metadata": {},
   "outputs": [],
   "source": [
    "train_set, test_set = train_test_split(data, test_size=0.2, random_state=42)\n",
    "train_set_labels, test_set_labes = train_test_split(data_labels, test_size=0.2, random_state=42)"
   ]
  },
  {
   "cell_type": "code",
   "execution_count": null,
   "metadata": {},
   "outputs": [],
   "source": [
    "svm_model_linear = SVC(kernel = 'linear', C = 1, gamma=0.0001).fit(train_set, train_set_labels)\n",
    "svm_predictions = svm_model_linear.predict(test_set[0])"
   ]
  },
  {
   "cell_type": "code",
   "execution_count": null,
   "metadata": {},
   "outputs": [],
   "source": []
  }
 ],
 "metadata": {
  "kernelspec": {
   "display_name": "speech-emotion-recognition",
   "language": "python",
   "name": "speech-emotion-recognition"
  },
  "language_info": {
   "codemirror_mode": {
    "name": "ipython",
    "version": 3
   },
   "file_extension": ".py",
   "mimetype": "text/x-python",
   "name": "python",
   "nbconvert_exporter": "python",
   "pygments_lexer": "ipython3",
   "version": "3.5.2"
  }
 },
 "nbformat": 4,
 "nbformat_minor": 2
}
