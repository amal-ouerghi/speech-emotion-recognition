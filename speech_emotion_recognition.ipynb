{
 "cells": [
  {
   "cell_type": "code",
   "execution_count": 1,
   "metadata": {},
   "outputs": [],
   "source": [
    "import numpy\n",
    "from scipy.io.wavfile import read\n",
    "import os\n",
    "from shutil import copyfile\n",
    "from sklearn.model_selection import train_test_split\n",
    "from sklearn.svm import SVC\n",
    "\n"
   ]
  },
  {
   "cell_type": "code",
   "execution_count": 2,
   "metadata": {},
   "outputs": [],
   "source": [
    "for fileName in os.listdir(os.getcwd()+\"/all_data/\"):\n",
    "    os.remove(os.getcwd()+\"/all_data\"+\"/\"+fileName)\n",
    "for filename in os.listdir(os.getcwd()+\"/data/DC/\"):\n",
    "    copyfile(os.getcwd()+\"/data/DC/\"+filename,os.getcwd()+\"/all_data/\"+filename.split('.')[0]+\"_DC.wav\")\n",
    "\n",
    "for filename in os.listdir(os.getcwd()+\"/data/JE/\"):\n",
    "    copyfile(os.getcwd()+\"/data/JE/\"+filename,os.getcwd()+\"/all_data/\"+filename.split('.')[0]+\"_JE.wav\")\n",
    "\n",
    "for filename in os.listdir(os.getcwd()+\"/data/JK/\"):\n",
    "    copyfile(os.getcwd()+\"/data/JK/\"+filename,os.getcwd()+\"/all_data/\"+filename.split('.')[0]+\"_JK.wav\")\n",
    "\n",
    "for filename in os.listdir(os.getcwd()+\"/data/KL/\"):\n",
    "    copyfile(os.getcwd()+\"/data/KL/\"+filename,os.getcwd()+\"/all_data/\"+filename.split('.')[0]+\"_KL.wav\")\n"
   ]
  },
  {
   "cell_type": "code",
   "execution_count": 3,
   "metadata": {},
   "outputs": [],
   "source": [
    "data_0=[]\n",
    "data_labels=[]\n",
    "# labels={'a':numpy.array([1,0,0,0,0,0,0]),'d':numpy.array([0,1,0,0,0,0,0]),'f':numpy.array([0,0,1,0,0,0,0]), 'h':numpy.array([0,0,0,1,0,0,0]),'n':numpy.array([0,0,0,0,1,0,0]),'sa':numpy.array([0,0,0,0,0,1,0]),'su':numpy.array([0,0,0,0,0,0,1])}\n",
    "labels={'a':0,'d':1,'f':2, 'h':3,'n':4,'sa':5,'su':6}\n",
    "for fileName in os.listdir(os.getcwd()+\"/all_data/\"):\n",
    "    a=read(os.getcwd()+\"/all_data\"+\"/\"+fileName)\n",
    "    data_0.append(list(numpy.array(a[1],dtype=float).tolist()))\n",
    "    if fileName[0]=='a':\n",
    "        data_labels.append(labels['a'])\n",
    "    elif fileName[0]=='d':\n",
    "        data_labels.append(labels['d'])\n",
    "    elif fileName[0]=='f':\n",
    "        data_labels.append(labels['f'])\n",
    "    elif fileName[0]=='h':\n",
    "        data_labels.append(labels['h'])\n",
    "    elif fileName[0]=='n':\n",
    "        data_labels.append(labels['n'])\n",
    "    elif fileName[1]=='a':\n",
    "        data_labels.append(labels['sa'])\n",
    "    elif fileName[1]=='u':\n",
    "        data_labels.append(labels['su'])"
   ]
  },
  {
   "cell_type": "code",
   "execution_count": 4,
   "metadata": {},
   "outputs": [],
   "source": [
    "data = list(numpy.zeros([len(data_0),len(max(data_0,key = lambda x: len(x)))]).tolist())\n",
    "for i,j in enumerate(data_0):\n",
    "    data[i][0:len(j)] = j"
   ]
  },
  {
   "cell_type": "code",
   "execution_count": 5,
   "metadata": {},
   "outputs": [],
   "source": [
    "train_set, test_set = train_test_split(data, test_size=0.2, random_state=42)\n",
    "train_set_labels, test_set_labes = train_test_split(data_labels, test_size=0.2, random_state=42)"
   ]
  },
  {
   "cell_type": "code",
   "execution_count": 6,
   "metadata": {},
   "outputs": [],
   "source": [
    "svm_model_linear = SVC(kernel = 'linear', C = 1, gamma=0.0001).fit(train_set, train_set_labels)"
   ]
  },
  {
   "cell_type": "code",
   "execution_count": 7,
   "metadata": {},
   "outputs": [
    {
     "name": "stdout",
     "output_type": "stream",
     "text": [
      "[6 4 0 5 5 4 5 4 2 4 1 4 3 0 4 1 4 4 6 4 1 4 4 4 4 5 1 6 4 2 4 4 6 4 4 3 4\n",
      " 0 6 1 4 2 4 5 4 1 1 4 4 4 4 5 6 1 4 1 4 4 0 4 1 2 3 4 4 1 6 5 4 4 1 6 1 4\n",
      " 4 1 4 4 4 4 4 2 4 5 4 4 1 4 5 4 4 1 2 4 4 5]\n"
     ]
    }
   ],
   "source": [
    "svm_predictions = svm_model_linear.predict(test_set)\n",
    "print(svm_predictions)"
   ]
  },
  {
   "cell_type": "code",
   "execution_count": 9,
   "metadata": {},
   "outputs": [
    {
     "data": {
      "text/plain": [
       "2.6299556396765835"
      ]
     },
     "execution_count": 9,
     "metadata": {},
     "output_type": "execute_result"
    }
   ],
   "source": [
    "from sklearn.metrics import mean_squared_error\n",
    "lin_mse = mean_squared_error(test_set_labes, svm_predictions)\n",
    "lin_rmse = numpy.sqrt(lin_mse)\n",
    "lin_rmse"
   ]
  },
  {
   "cell_type": "code",
   "execution_count": 10,
   "metadata": {},
   "outputs": [
    {
     "data": {
      "text/plain": [
       "1.9375"
      ]
     },
     "execution_count": 10,
     "metadata": {},
     "output_type": "execute_result"
    }
   ],
   "source": [
    "from sklearn.metrics import mean_absolute_error\n",
    "\n",
    "lin_mae = mean_absolute_error(test_set_labes, svm_predictions)\n",
    "lin_mae"
   ]
  },
  {
   "cell_type": "code",
   "execution_count": 11,
   "metadata": {},
   "outputs": [
    {
     "name": "stdout",
     "output_type": "stream",
     "text": [
      "[0, 1, 6, 1, 6, 2, 4, 0, 4, 0, 1, 4, 2, 0, 4, 4, 1, 4, 1, 1, 4, 5, 1, 5, 3, 5, 4, 0, 4, 2, 1, 2, 5, 0, 5, 0, 4, 6, 2, 2, 4, 2, 0, 4, 4, 1, 2, 4, 5, 4, 2, 4, 2, 3, 4, 3, 6, 6, 0, 4, 3, 0, 3, 4, 6, 6, 0, 1, 4, 0, 2, 6, 4, 5, 5, 5, 5, 4, 6, 4, 5, 1, 0, 0, 4, 5, 4, 3, 5, 0, 6, 6, 1, 3, 1, 2]\n"
     ]
    }
   ],
   "source": [
    "print(test_set_labes)"
   ]
  },
  {
   "cell_type": "code",
   "execution_count": null,
   "metadata": {},
   "outputs": [],
   "source": []
  }
 ],
 "metadata": {
  "kernelspec": {
   "display_name": "speech-emotion-recognition",
   "language": "python",
   "name": "speech-emotion-recognition"
  }
 },
 "nbformat": 4,
 "nbformat_minor": 2
}
