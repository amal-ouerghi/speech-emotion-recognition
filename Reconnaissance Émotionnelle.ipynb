{
 "cells": [
  {
   "cell_type": "markdown",
   "metadata": {},
   "source": [
    "<h1><font color=\"red\"> Import Section</font> </h1>"
   ]
  },
  {
   "cell_type": "code",
   "execution_count": 1,
   "metadata": {},
   "outputs": [],
   "source": [
    "import numpy\n",
    "import os\n",
    "#manipulate the filesystem copy and remove "
    "from shutil import copyfile\n",
    "from sklearn.model_selection import train_test_split\n",
    "from sklearn.svm import SVC\n",
    "import librosa as lb\n",
    "from sklearn.preprocessing import StandardScaler\n",
    "from sklearn import metrics\n",
    "from sklearn.linear_model import SGDClassifier"
   ]
  },
  {
   "cell_type": "markdown",
   "metadata": {},
   "source": [
    "<h1><font color='red'>Load Data & Labels </font></h1>"
   ]
  },
  {
   "cell_type": "markdown",
   "metadata": {},
   "source": [
    "<h3>Getting all data into one directory</h3>"
   ]
  },
  {
   "cell_type": "code",
   "execution_count": 2,
   "metadata": {},
   "outputs": [],
   "source": [
    "for fileName in os.listdir(os.getcwd()+\"/all_data/\"):\n",
    "    os.remove(os.getcwd()+\"/all_data\"+\"/\"+fileName)\n",
    "for filename in os.listdir(os.getcwd()+\"/data/DC/\"):\n",
    "    copyfile(os.getcwd()+\"/data/DC/\"+filename,os.getcwd()+\"/all_data/\"+filename.split('.')[0]+\"_DC.wav\")\n",
    "\n",
    "for filename in os.listdir(os.getcwd()+\"/data/JE/\"):\n",
    "    copyfile(os.getcwd()+\"/data/JE/\"+filename,os.getcwd()+\"/all_data/\"+filename.split('.')[0]+\"_JE.wav\")\n",
    "\n",
    "for filename in os.listdir(os.getcwd()+\"/data/JK/\"):\n",
    "    copyfile(os.getcwd()+\"/data/JK/\"+filename,os.getcwd()+\"/all_data/\"+filename.split('.')[0]+\"_JK.wav\")\n",
    "\n",
    "for filename in os.listdir(os.getcwd()+\"/data/KL/\"):\n",
    "    copyfile(os.getcwd()+\"/data/KL/\"+filename,os.getcwd()+\"/all_data/\"+filename.split('.')[0]+\"_KL.wav\")\n"
   ]
  },
  {
   "cell_type": "markdown",
   "metadata": {},
   "source": [
    "<h3>Building the dataset and labels</h3>"
   ]
  },
  {
   "cell_type": "code",
   "execution_count": 3,
   "metadata": {},
   "outputs": [],
   "source": [
    "data_labels=[]\n",
    "dt_tm=[]\n",
    "labels={'a':0,'d':1,'f':2, 'h':3,'n':4,'sa':5,'su':6}\n",
    "for fileName in os.listdir(os.getcwd()+\"/all_data/\"):\n",
    "    timeseries, sampleRate = lb.load(os.getcwd()+\"/all_data\"+\"/\"+fileName)\n",
    "    dt_tm.append(timeseries)\n",
    "    if fileName[0]=='a':\n",
    "        data_labels.append(labels['a'])\n",
    "    elif fileName[0]=='d':\n",
    "        data_labels.append(labels['d'])\n",
    "    elif fileName[0]=='f':\n",
    "        data_labels.append(labels['f'])\n",
    "    elif fileName[0]=='h':\n",
    "        data_labels.append(labels['h'])\n",
    "    elif fileName[0]=='n':\n",
    "        data_labels.append(labels['n'])\n",
    "    elif fileName[1]=='a':\n",
    "        data_labels.append(labels['sa'])\n",
    "    elif fileName[1]=='u':\n",
    "        data_labels.append(labels['su'])"
   ]
  },
  {
   "cell_type": "markdown",
   "metadata": {},
   "source": [
    "<h1><font color='red'>Preprocessing the Data </font></h1>"
   ]
  },
  {
   "cell_type": "markdown",
   "metadata": {},
   "source": [
    "<h3>Split data into training data and test data:</h3>"
   ]
  },
  {
   "cell_type": "code",
   "execution_count": 4,
   "metadata": {},
   "outputs": [],
   "source": [
    "train_set, test_set = train_test_split(dt_tm, test_size=0.2, random_state=42)\n",
    "train_set_labels, test_set_labes = train_test_split(data_labels, test_size=0.2, random_state=42)"
   ]
  },
  {
   "cell_type": "markdown",
   "metadata": {},
   "source": [
    "<h3>Use of Late Fusion For train and Test Datasets</h3>"
   ]
  },
  {
   "cell_type": "markdown",
   "metadata": {},
   "source": [
    "<h5>Functions defined below do the combined and Late Fusion: We should specify the value of the \"k\" parameter.</h5>"
   ]
  },
  {
   "cell_type": "code",
   "execution_count": 5,
   "metadata": {},
   "outputs": [],
   "source": [
    "def combinedFusion(data,labels,n_mfcc, k=1):\n",
    "    \"\"\"\n",
    "    This function do both combined fusion and late fusion.\n",
    "    This function is used with training and validation set.\n",
    "    Late fusion is done if k=1\n",
    "    this function returns X_combined, y (vector of labels)\n",
    "    \"\"\"\n",
    "    X=lb.feature.mfcc(y=data[0], n_fft=4096, hop_length=4096, n_mfcc=n_mfcc).T\n",
    "    X=X[0:k*(X.shape[0]//k)].reshape(X.shape[0]//k,k,n_mfcc)\n",
    "    X=numpy.mean(X,axis=1)\n",
    "    y=labels[0]*numpy.ones(X.shape[0])\n",
    "    \n",
    "    for i,mfcc in enumerate(data[1:]):\n",
    "        tmp = lb.feature.mfcc(y=mfcc, n_fft=4096, hop_length=4096, n_mfcc=n_mfcc).T\n",
    "        tmp = tmp[0:k*(tmp.shape[0]//k)].reshape(tmp.shape[0]//k,k,n_mfcc)\n",
    "        tmp = numpy.mean(tmp,axis=1) \n",
    "        y = numpy.concatenate((y, labels[i]*numpy.ones(tmp.shape[0])), axis=0)\n",
    "        X = numpy.concatenate((X, tmp), axis=0)\n",
    "\n",
    "    return X,y"
   ]
  },
  {
   "cell_type": "code",
   "execution_count": 6,
   "metadata": {},
   "outputs": [],
   "source": [
    "train_setf,train_set_labelsf=combinedFusion(train_set,train_set_labels,20,1)\n",
    "test_setf,test_set_labelsf=combinedFusion(test_set,test_set_labes,20,1)"
   ]
  },
  {
   "cell_type": "code",
   "execution_count": 7,
   "metadata": {},
   "outputs": [
    {
     "name": "stdout",
     "output_type": "stream",
     "text": [
      "(8145, 20)\n",
      "(8145,)\n"
     ]
    }
   ],
   "source": [
    "print(train_setf.shape)\n",
    "print(train_set_labelsf.shape)"
   ]
  },
  {
   "cell_type": "markdown",
   "metadata": {},
   "source": [
    "<h3>Normalize Data:</h3>"
   ]
  },
  {
   "cell_type": "code",
   "execution_count": 8,
   "metadata": {},
   "outputs": [],
   "source": [
    "# scaler = StandardScaler().fit(dataf)\n",
    "# dataf = scaler.transform(dataf)"
   ]
  },
  {
   "cell_type": "markdown",
   "metadata": {},
   "source": []
  },
  {
   "cell_type": "code",
   "execution_count": null,
   "metadata": {},
   "outputs": [],
   "source": []
  },
  {
   "cell_type": "markdown",
   "metadata": {},
   "source": [
    "<h1><font color=\"red\"> Training Phase:</font> </h1>"
   ]
  },
  {
   "cell_type": "markdown",
   "metadata": {},
   "source": [
    " <h3>SVM</h3>"
   ]
  },
  {
   "cell_type": "code",
   "execution_count": 9,
   "metadata": {},
   "outputs": [],
   "source": [
    "svm_model = SVC(C = 1, gamma=0.0001).fit(train_setf, train_set_labelsf)"
   ]
  },
  {
   "cell_type": "markdown",
   "metadata": {},
   "source": [
    " <h3>Prediction</h3>"
   ]
  },
  {
   "cell_type": "code",
   "execution_count": 10,
   "metadata": {},
   "outputs": [],
   "source": [
    "svm_predictions = svm_model.predict(test_setf)"
   ]
  },
  {
   "cell_type": "code",
   "execution_count": 11,
   "metadata": {},
   "outputs": [
    {
     "name": "stdout",
     "output_type": "stream",
     "text": [
      "[ 4.  4.  4. ...,  4.  4.  4.]\n"
     ]
    }
   ],
   "source": [
    "print(svm_predictions)"
   ]
  },
  {
   "cell_type": "code",
   "execution_count": 12,
   "metadata": {},
   "outputs": [
    {
     "name": "stdout",
     "output_type": "stream",
     "text": [
      "[ 0.  0.  0. ...,  1.  1.  1.]\n"
     ]
    }
   ],
   "source": [
    "print(test_set_labelsf)"
   ]
  },
  {
   "cell_type": "code",
   "execution_count": 13,
   "metadata": {},
   "outputs": [
    {
     "name": "stdout",
     "output_type": "stream",
     "text": [
      "0.234042553191\n"
     ]
    }
   ],
   "source": [
    "print(metrics.accuracy_score(test_set_labelsf, svm_predictions))"
   ]
  },
  {
   "cell_type": "markdown",
   "metadata": {},
   "source": [
    " <h3>SGD</h3>"
   ]
  },
  {
   "cell_type": "code",
   "execution_count": 14,
   "metadata": {
    "scrolled": true
   },
   "outputs": [
    {
     "name": "stderr",
     "output_type": "stream",
     "text": [
      "/home/hoffa/speech-emotion-recognition/venv/lib/python3.5/site-packages/sklearn/linear_model/stochastic_gradient.py:128: FutureWarning: max_iter and tol parameters have been added in <class 'sklearn.linear_model.stochastic_gradient.SGDClassifier'> in 0.19. If both are left unset, they default to max_iter=5 and tol=None. If tol is not None, max_iter defaults to max_iter=1000. From 0.21, default max_iter will be 1000, and default tol will be 1e-3.\n",
      "  \"and default tol will be 1e-3.\" % type(self), FutureWarning)\n"
     ]
    }
   ],
   "source": [
    "clf = SGDClassifier(loss=\"hinge\", penalty=\"l2\")\n",
    "model=clf.fit(train_setf, train_set_labelsf)"
   ]
  },
  {
   "cell_type": "code",
   "execution_count": 15,
   "metadata": {},
   "outputs": [
    {
     "name": "stdout",
     "output_type": "stream",
     "text": [
      "[ 0.  0.  0. ...,  0.  0.  0.]\n"
     ]
    }
   ],
   "source": [
    "sgd_predictions = model.predict(test_setf)\n",
    "print(sgd_predictions)"
   ]
  },
  {
   "cell_type": "code",
   "execution_count": null,
   "metadata": {},
   "outputs": [
    {
     "name": "stdout",
     "output_type": "stream",
     "text": [
      "0.142503711034\n"
     ]
    }
   ],
   "source": [
    "print(metrics.accuracy_score(test_set_labelsf, sgd_predictions))"
   ]
  },
  {
   "cell_type": "markdown",
   "metadata": {},
   "source": [
    " <h3>Linear SVM</h3>"
   ]
  },
  {
   "cell_type": "code",
   "execution_count": null,
   "metadata": {},
   "outputs": [],
   "source": [
    "svm_model_linear = SVC(kernel = 'linear', C = 1, gamma=0.0001).fit(train_setf, train_set_labelsf)"
   ]
  },
  {
   "cell_type": "code",
   "execution_count": null,
   "metadata": {},
   "outputs": [],
   "source": [
    "svm_linear_predictions = svm_model_linear.predict(test_set)"
   ]
  }
 ],
 "metadata": {
  "kernelspec": {
   "display_name": "speech-emotion-recognition",
   "language": "python",
   "name": "speech-emotion-recognition"
  },
  "language_info": {
   "codemirror_mode": {
    "name": "ipython",
    "version": 3
   },
   "file_extension": ".py",
   "mimetype": "text/x-python",
   "name": "python",
   "nbconvert_exporter": "python",
   "pygments_lexer": "ipython3",
   "version": "3.5.2"
  }
 },
 "nbformat": 4,
 "nbformat_minor": 2
}
